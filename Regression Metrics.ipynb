{
 "cells": [
  {
   "cell_type": "markdown",
   "metadata": {},
   "source": [
    "### Regression Metrics"
   ]
  },
  {
   "cell_type": "markdown",
   "metadata": {},
   "source": [
    "yhat is the predicted value"
   ]
  },
  {
   "cell_type": "markdown",
   "metadata": {},
   "source": [
    "<img src = 'RSquare.PNG'/>"
   ]
  },
  {
   "cell_type": "markdown",
   "metadata": {},
   "source": [
    "SSres --> Sum of errors, which we get by (y-yhat)**2 by the difference of prediction from original in best fit line\n",
    "\n",
    "SStot --> the same procedure as above but the best fit line here is the average output line of all the points, as shown above"
   ]
  },
  {
   "cell_type": "markdown",
   "metadata": {},
   "source": [
    "#### Note : The R2 value ranges from 0 to 1, closer to 1 means model is better\n",
    "\n",
    "R2 can become lesser than 0 when the best fit line is worse than the average output line"
   ]
  },
  {
   "cell_type": "markdown",
   "metadata": {},
   "source": [
    "Understand that the R2 value never decreases and it only increases when more features are added, as the model applies a co-efficient to the new feature (y=m1x1+m2x2+c) m to bring down the SSres value, even if the feature is not correlated to target. To penalize these type of feature we use adjusted R2"
   ]
  },
  {
   "cell_type": "markdown",
   "metadata": {},
   "source": [
    "<img src = 'Adjusted RSquare.PNG'/>"
   ]
  },
  {
   "cell_type": "markdown",
   "metadata": {},
   "source": [
    "Here since we added the p parameter(no of predictors, or independent features), the adjusted R2 will penalise the feature if it is not correlated and brings down the model score to justify the added feature. Adjusted R2 increases only when the added feature is significant and affects the target variable\n",
    "\n",
    "Adjusted R2 value will always be lesser than or equal to R2 value"
   ]
  },
  {
   "cell_type": "code",
   "execution_count": null,
   "metadata": {},
   "outputs": [],
   "source": []
  }
 ],
 "metadata": {
  "kernelspec": {
   "display_name": "Python 3 (ipykernel)",
   "language": "python",
   "name": "python3"
  },
  "language_info": {
   "codemirror_mode": {
    "name": "ipython",
    "version": 3
   },
   "file_extension": ".py",
   "mimetype": "text/x-python",
   "name": "python",
   "nbconvert_exporter": "python",
   "pygments_lexer": "ipython3",
   "version": "3.9.7"
  }
 },
 "nbformat": 4,
 "nbformat_minor": 2
}
